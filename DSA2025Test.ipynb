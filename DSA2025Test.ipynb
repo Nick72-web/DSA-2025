{
 "cells": [
  {
   "cell_type": "code",
   "execution_count": 1,
   "metadata": {
    "deletable": false,
    "editable": false
   },
   "outputs": [],
   "source": [
    "# Initialize Otter\n",
    "import otter\n",
    "grader = otter.Notebook(\"DSA2025Test.ipynb\")"
   ]
  },
  {
   "cell_type": "markdown",
   "metadata": {},
   "source": [
    "# DSA 2025 Summer School Admittance Check\n",
    "\n",
    "Thanks for your interest in attending DSA 2025 Ibadan, Nigeria. To attend the summer school you have to have some level of basic Python proficiency. Completing the following notebook should ensure you have the right kind of background to benefit maximally from the Summer School. See you in Ibadan!\n",
    "\n",
    "## Instructions\n",
    "1. Complete each function according to the provided specifications\n",
    "2. Run all cells to verify your solutions\n",
    "3. All tests must pass to generate a submission\n",
    "4. Save your work before submitting"
   ]
  },
  {
   "cell_type": "code",
   "execution_count": 2,
   "metadata": {},
   "outputs": [],
   "source": [
    "# Run these once ... To be on a safe side\n",
    "import IPython\n",
    "from IPython import get_ipython\n",
    "# Import the good stuff\n",
    "import pandas as pd\n",
    "import numpy as np\n",
    "import math\n",
    "# from nose.tools import assert_equal\n",
    "import otter\n",
    "from collections import Counter\n",
    "\n",
    "grader = otter.Notebook()"
   ]
  },
  {
   "cell_type": "markdown",
   "metadata": {
    "deletable": false,
    "editable": false
   },
   "source": [
    "<!-- BEGIN QUESTION -->\n",
    "\n",
    "**Question 1:** \n",
    "Write a Python function to return a tuple of even and odd numbers \n",
    "\n",
    "1.   List item\n",
    "2.   List item\n",
    "\n",
    "given an integer input.</br>\n",
    "Example: For input 10, the output should be ([2, 4, 6, 8, 10], [1, 3, 5, 7, 9])."
   ]
  },
  {
   "cell_type": "code",
   "execution_count": 3,
   "metadata": {
    "tags": []
   },
   "outputs": [],
   "source": [
    "def even_odd_numbers(n):\n",
    "    \"\"\"\n",
    "    Returns a tuple of even and odd numbers up to n.\n",
    "\n",
    "    Args:\n",
    "        n (int): The upper limit.\n",
    "\n",
    "    Returns:\n",
    "        tuple: A tuple of two lists: (evens, odds).\n",
    "    \"\"\"\n",
    "    evens = []\n",
    "    odds = []\n",
    "    for i in range(1, n+1):\n",
    "        if i % 2 == 0:\n",
    "            evens.append(i)\n",
    "        else:\n",
    "            odds.append(i)\n",
    "    return (evens, odds)\n",
    "\n",
    "# Make function available globally\n",
    "__builtins__.even_odd_numbers = even_odd_numbers"
   ]
  },
  {
   "cell_type": "code",
   "execution_count": 4,
   "metadata": {
    "deletable": false,
    "editable": false
   },
   "outputs": [
    {
     "data": {
      "text/html": [
       "<p><strong><pre style='display: inline;'>q1</pre></strong> passed! 🎉</p>"
      ],
      "text/plain": [
       "q1 results: All test cases passed!"
      ]
     },
     "execution_count": 4,
     "metadata": {},
     "output_type": "execute_result"
    }
   ],
   "source": [
    "grader.check(\"q1\")"
   ]
  },
  {
   "cell_type": "markdown",
   "metadata": {
    "deletable": false,
    "editable": false
   },
   "source": [
    "<!-- END QUESTION -->\n",
    "\n",
    "<!-- BEGIN QUESTION -->\n",
    "\n",
    "**Question 2: Create a dictionary to store the frequency of each word in the paragraph provided.**</br>\n",
    "Example: For the paragraph \"Data science is fun. Data science is useful.\", the output should be {'Data': 2, 'science': 2, 'is': 2, 'fun': 1, 'useful': 1}."
   ]
  },
  {
   "cell_type": "code",
   "execution_count": 5,
   "metadata": {
    "tags": []
   },
   "outputs": [],
   "source": [
    "def word_frequency(paragraph):\n",
    "    \"\"\"\n",
    "    Returns a dictionary of word frequencies in a paragraph.\n",
    "\n",
    "    Args:\n",
    "        paragraph (str): The input paragraph.\n",
    "\n",
    "    Returns:\n",
    "        dict: A dictionary with words as keys and their frequencies as values.\n",
    "    \"\"\"\n",
    "    import re\n",
    "    # Convert to lowercase and extract words using regex\n",
    "    paragraph = paragraph.lower()\n",
    "    words = re.findall(r'\\b\\w+\\b', paragraph)\n",
    "    \n",
    "    # Count frequencies\n",
    "    word_dict = {}\n",
    "    for word in words:\n",
    "        word_dict[word] = word_dict.get(word, 0) + 1\n",
    "    \n",
    "    return word_dict\n",
    "\n",
    "# Make function available globally\n",
    "__builtins__.word_frequency = word_frequency"
   ]
  },
  {
   "cell_type": "code",
   "execution_count": 6,
   "metadata": {
    "deletable": false,
    "editable": false
   },
   "outputs": [
    {
     "data": {
      "text/html": [
       "<p><strong><pre style='display: inline;'>q2</pre></strong> passed! 💯</p>"
      ],
      "text/plain": [
       "q2 results: All test cases passed!"
      ]
     },
     "execution_count": 6,
     "metadata": {},
     "output_type": "execute_result"
    }
   ],
   "source": [
    "grader.check(\"q2\")"
   ]
  },
  {
   "cell_type": "markdown",
   "metadata": {
    "deletable": false,
    "editable": false
   },
   "source": [
    "<!-- END QUESTION -->\n",
    "\n",
    "<!-- BEGIN QUESTION -->\n",
    "\n",
    "**Question 3: Extract the values from the dictionary above into a list and sort them in descending order.**</br>\n",
    "Example: For the dictionary {'a': 3, 'b': 1, 'c': 2}, the output should be [3, 2, 1]"
   ]
  },
  {
   "cell_type": "code",
   "execution_count": 8,
   "metadata": {
    "tags": []
   },
   "outputs": [],
   "source": [
    "def extract_and_sort_values(dictionary):\n",
    "    \"\"\"\n",
    "    Extracts and sorts dictionary values in descending order.\n",
    "\n",
    "    Args:\n",
    "        dictionary (dict): The input dictionary.\n",
    "\n",
    "    Returns:\n",
    "        list: A list of sorted values in descending order.\n",
    "    \"\"\"\n",
    "    # Extract values with list comprehension, then sort\n",
    "    values = [value for value in dictionary.values()]\n",
    "    return sorted(values, reverse=True)\n",
    "\n",
    "# Make function available globally\n",
    "__builtins__.extract_and_sort_values = extract_and_sort_values"
   ]
  },
  {
   "cell_type": "code",
   "execution_count": 9,
   "metadata": {
    "deletable": false,
    "editable": false
   },
   "outputs": [
    {
     "data": {
      "text/html": [
       "<p><strong><pre style='display: inline;'>q3</pre></strong> passed! 🌟</p>"
      ],
      "text/plain": [
       "q3 results: All test cases passed!"
      ]
     },
     "execution_count": 9,
     "metadata": {},
     "output_type": "execute_result"
    }
   ],
   "source": [
    "grader.check(\"q3\")"
   ]
  },
  {
   "cell_type": "markdown",
   "metadata": {
    "deletable": false,
    "editable": false
   },
   "source": [
    "<!-- END QUESTION -->\n",
    "\n",
    "<!-- BEGIN QUESTION -->\n",
    "\n",
    "**Question 4: Merge the two lists (from Questions 3 and 4) into a dictionary where the keys are the sorted keys and the values are the sorted values.**</br>\n",
    "Example: For lists ['a', 'b', 'c'] and [3, 2, 1], the output should be {'a': 3, 'b': 2, 'c': 1}"
   ]
  },
  {
   "cell_type": "code",
   "execution_count": 10,
   "metadata": {
    "tags": []
   },
   "outputs": [],
   "source": [
    "def merge_lists_to_dict(keys, values):\n",
    "    \"\"\"\n",
    "    Merges two lists into a dictionary.\n",
    "\n",
    "    Args:\n",
    "        keys (list): List of keys.\n",
    "        values (list): List of values.\n",
    "\n",
    "    Returns:\n",
    "        dict: A dictionary with keys and values paired.\n",
    "    \"\"\"\n",
    "    # Use dictionary comprehension\n",
    "    return {keys[i]: values[i] for i in range(len(keys))}\n",
    "\n",
    "# Make function available globally\n",
    "__builtins__.merge_lists_to_dict = merge_lists_to_dict"
   ]
  },
  {
   "cell_type": "code",
   "execution_count": 11,
   "metadata": {
    "deletable": false,
    "editable": false
   },
   "outputs": [
    {
     "data": {
      "text/html": [
       "<p><strong><pre style='display: inline;'>q4</pre></strong> passed! 🙌</p>"
      ],
      "text/plain": [
       "q4 results: All test cases passed!"
      ]
     },
     "execution_count": 11,
     "metadata": {},
     "output_type": "execute_result"
    }
   ],
   "source": [
    "grader.check(\"q4\")"
   ]
  },
  {
   "cell_type": "markdown",
   "metadata": {
    "deletable": false,
    "editable": false
   },
   "source": [
    "<!-- END QUESTION -->\n",
    "\n",
    "<!-- BEGIN QUESTION -->\n",
    "\n",
    "**Question 5:Write a function least_common_multiple that takes two inputs a and b and returns the least common multiple of the two numbers.**</br>\n",
    "Example: For input (4, 6), the output should be 12"
   ]
  },
  {
   "cell_type": "code",
   "execution_count": 12,
   "metadata": {
    "tags": []
   },
   "outputs": [],
   "source": [
    "def least_common_multiple(a, b):\n",
    "    \"\"\"\n",
    "    Returns the least common multiple of two numbers.\n",
    "\n",
    "    Args:\n",
    "        a (int): First number.\n",
    "        b (int): Second number.\n",
    "\n",
    "    Returns:\n",
    "        int: The LCM of a and b.\n",
    "    \"\"\"\n",
    "    # Recursive GCD function\n",
    "    def gcd(x, y):\n",
    "        if y == 0:\n",
    "            return x\n",
    "        return gcd(y, x % y)\n",
    "    \n",
    "    return (a * b) // gcd(a, b)\n",
    "\n",
    "# Make function available globally\n",
    "__builtins__.least_common_multiple = least_common_multiple"
   ]
  },
  {
   "cell_type": "code",
   "execution_count": 13,
   "metadata": {
    "deletable": false,
    "editable": false
   },
   "outputs": [
    {
     "data": {
      "text/html": [
       "<p><strong><pre style='display: inline;'>q5</pre></strong> passed! 🌟</p>"
      ],
      "text/plain": [
       "q5 results: All test cases passed!"
      ]
     },
     "execution_count": 13,
     "metadata": {},
     "output_type": "execute_result"
    }
   ],
   "source": [
    "grader.check(\"q5\")"
   ]
  },
  {
   "cell_type": "markdown",
   "metadata": {
    "deletable": false,
    "editable": false
   },
   "source": [
    "<!-- END QUESTION -->\n",
    "\n",
    "<!-- BEGIN QUESTION -->\n",
    "\n",
    "**Question 6:Write a function get_nearest_farthest that takes in a point of interest (x, y) and a list of points [(x1, y1), (x2, y2), ...] and returns the indices of the nearest and farthest points from the point of interest.** </br>\n",
    "Example: For pt = (0, 0) and points = [(1, 1), (3, 3), (-1, -1)], the output should be (0, 1)"
   ]
  },
  {
   "cell_type": "code",
   "execution_count": 15,
   "metadata": {
    "tags": []
   },
   "outputs": [],
   "source": [
    "def get_nearest_farthest(pt, points):\n",
    "    \"\"\"\n",
    "    Returns the indices of the nearest and farthest points from a point of interest.\n",
    "\n",
    "    Args:\n",
    "        pt (tuple): The point of interest (x, y).\n",
    "        points (list): List of points [(x1, y1), (x2, y2), ...].\n",
    "\n",
    "    Returns:\n",
    "        tuple: Indices of the nearest and farthest points.\n",
    "    \"\"\"\n",
    "    import numpy as np\n",
    "    \n",
    "    # Convert to numpy arrays\n",
    "    pt_array = np.array(pt)\n",
    "    points_array = np.array(points)\n",
    "    \n",
    "    # Calculate distances (vectorized)\n",
    "    distances = np.sqrt(np.sum((points_array - pt_array) ** 2, axis=1))\n",
    "    \n",
    "    # Find indices of min and max\n",
    "    nearest_idx = np.argmin(distances)\n",
    "    farthest_idx = np.argmax(distances)\n",
    "    \n",
    "    return (int(nearest_idx), int(farthest_idx))\n",
    "\n",
    "# Make function available globally\n",
    "__builtins__.get_nearest_farthest = get_nearest_farthest"
   ]
  },
  {
   "cell_type": "code",
   "execution_count": 16,
   "metadata": {
    "deletable": false,
    "editable": false
   },
   "outputs": [
    {
     "data": {
      "text/html": [
       "<p><strong><pre style='display: inline;'>q6</pre></strong> passed! ✨</p>"
      ],
      "text/plain": [
       "q6 results: All test cases passed!"
      ]
     },
     "execution_count": 16,
     "metadata": {},
     "output_type": "execute_result"
    }
   ],
   "source": [
    "grader.check(\"q6\")"
   ]
  },
  {
   "cell_type": "markdown",
   "metadata": {
    "deletable": false,
    "editable": false
   },
   "source": [
    "<!-- END QUESTION -->\n",
    "\n",
    "<!-- BEGIN QUESTION -->\n",
    "\n",
    "**Question 7:Write a function filter_divisible to return a list of numbers between 0 and a number N that are not perfectly divisible by q.** </br>\n",
    "\n",
    "> Hint: If N is negative, use N = 20. \n",
    "\n",
    "Example: For N = 10 and q = 2, the output should be [1, 3, 5, 7, 9]"
   ]
  },
  {
   "cell_type": "code",
   "execution_count": 17,
   "metadata": {
    "tags": []
   },
   "outputs": [],
   "source": [
    "def filter_divisible(N, q):\n",
    "    \"\"\"\n",
    "    Returns a list of numbers between 0 and N that are not divisible by q.\n",
    "\n",
    "    Args:\n",
    "        N (int): The upper limit.\n",
    "        q (int): The divisor.\n",
    "\n",
    "    Returns:\n",
    "        list: A list of non-divisible numbers.\n",
    "    \"\"\"\n",
    "    # Handle negative N\n",
    "    if N < 0:\n",
    "        N = 20\n",
    "    \n",
    "    # Use for loop to filter numbers\n",
    "    non_divisible = []\n",
    "    for i in range(1, N+1):\n",
    "        if i % q != 0:\n",
    "            non_divisible.append(i)\n",
    "    \n",
    "    return non_divisible\n",
    "\n",
    "# Make function available globally\n",
    "__builtins__.filter_divisible = filter_divisible"
   ]
  },
  {
   "cell_type": "code",
   "execution_count": 18,
   "metadata": {
    "deletable": false,
    "editable": false
   },
   "outputs": [
    {
     "data": {
      "text/html": [
       "<p><strong><pre style='display: inline;'>q7</pre></strong> passed! 🌈</p>"
      ],
      "text/plain": [
       "q7 results: All test cases passed!"
      ]
     },
     "execution_count": 18,
     "metadata": {},
     "output_type": "execute_result"
    }
   ],
   "source": [
    "grader.check(\"q7\")"
   ]
  },
  {
   "cell_type": "markdown",
   "metadata": {
    "deletable": false,
    "editable": false
   },
   "source": [
    "<!-- END QUESTION -->\n",
    "\n",
    "<!-- BEGIN QUESTION -->\n",
    "\n",
    "**Question 8: Write a function flatten_and_unique that takes in a list of lists and outputs a sorted list of unique elements from all sublists.**"
   ]
  },
  {
   "cell_type": "code",
   "execution_count": 19,
   "metadata": {
    "tags": []
   },
   "outputs": [],
   "source": [
    "def flatten_and_unique(list_of_lists):\n",
    "    \"\"\"\n",
    "    Flattens a list of lists and returns a sorted list of unique elements.\n",
    "\n",
    "    Args:\n",
    "        list_of_lists (list): A list of lists.\n",
    "\n",
    "    Returns:\n",
    "        list: A sorted list of unique elements.\n",
    "    \"\"\"\n",
    "    # Use sum to flatten, with [] as the starting value\n",
    "    flattened = sum(list_of_lists, [])\n",
    "    \n",
    "    # Create a sorted list of unique elements\n",
    "    unique_sorted = sorted(set(flattened))\n",
    "    \n",
    "    return unique_sorted\n",
    "\n",
    "# Make function available globally\n",
    "__builtins__.flatten_and_unique = flatten_and_unique"
   ]
  },
  {
   "cell_type": "code",
   "execution_count": 20,
   "metadata": {
    "deletable": false,
    "editable": false
   },
   "outputs": [
    {
     "data": {
      "text/html": [
       "<p><strong><pre style='display: inline;'>q8</pre></strong> passed! 🌈</p>"
      ],
      "text/plain": [
       "q8 results: All test cases passed!"
      ]
     },
     "execution_count": 20,
     "metadata": {},
     "output_type": "execute_result"
    }
   ],
   "source": [
    "grader.check(\"q8\")"
   ]
  },
  {
   "cell_type": "markdown",
   "metadata": {
    "deletable": false,
    "editable": false
   },
   "source": [
    "<!-- END QUESTION -->\n",
    "\n",
    "**The Extra Mile!**\n"
   ]
  },
  {
   "cell_type": "markdown",
   "metadata": {},
   "source": [
    "Download the dataset Nigeria Food Prices (9.9M) \n",
    "\n",
    "> https://data.humdata.org/dataset/wfp-food-prices-for-nigeria\n",
    "\n",
    "\n",
    "\n"
   ]
  },
  {
   "cell_type": "markdown",
   "metadata": {
    "deletable": false,
    "editable": false
   },
   "source": [
    "<!-- BEGIN QUESTION -->\n",
    "\n",
    "**Question 9: Create a new column date_new from the date column, converting it to a datetime format.**"
   ]
  },
  {
   "cell_type": "code",
   "execution_count": 23,
   "metadata": {
    "tags": []
   },
   "outputs": [
    {
     "name": "stdout",
     "output_type": "stream",
     "text": [
      "First 5 rows of the dataset:\n",
      "         date   admin1 admin2        market  latitude  longitude  \\\n",
      "0  2002-01-15  Katsina  Jibia   Jibia (CBM)    13.080      7.240   \n",
      "1  2002-01-15  Katsina  Jibia   Jibia (CBM)    13.080      7.240   \n",
      "2  2002-01-15  Katsina  Jibia   Jibia (CBM)    13.080      7.240   \n",
      "3  2002-01-15  Katsina  Jibia   Jibia (CBM)    13.080      7.240   \n",
      "4  2002-01-15   Sokoto   Gada  Illela (CBM)    13.645      5.278   \n",
      "\n",
      "             category      commodity unit priceflag  pricetype currency  \\\n",
      "0  cereals and tubers          Maize   KG    actual  Wholesale      NGN   \n",
      "1  cereals and tubers         Millet   KG    actual  Wholesale      NGN   \n",
      "2  cereals and tubers        Sorghum   KG    actual  Wholesale      NGN   \n",
      "3     pulses and nuts  Beans (niebe)   KG    actual  Wholesale      NGN   \n",
      "4  cereals and tubers          Maize   KG    actual  Wholesale      NGN   \n",
      "\n",
      "    price  usdprice  \n",
      "0  175.92    1.5398  \n",
      "1  150.18    1.3145  \n",
      "2  155.61    1.3620  \n",
      "3  196.87    1.7231  \n",
      "4  153.35    1.3422  \n"
     ]
    }
   ],
   "source": [
    "import pandas as pd\n",
    "\n",
    "# Load the dataset\n",
    "file_path = '/home/nick/Desktop/nick_dsa/wfp_food_prices_nga.csv'  # Replace with the actual file path\n",
    "df = pd.read_csv(file_path,skiprows=[1])\n",
    "df = df.drop(index=2)\n",
    "df = df.reset_index(drop=True)\n",
    "\n",
    "# Display the first few rows of the dataset\n",
    "print(\"First 5 rows of the dataset:\")\n",
    "print(df.head())\n",
    "\n"
   ]
  },
  {
   "cell_type": "code",
   "execution_count": 26,
   "metadata": {
    "tags": []
   },
   "outputs": [],
   "source": [
    "def create_date_new(df):\n",
    "    \"\"\"\n",
    "    Creates a new column `date_new` from the `date` column, converting it to a datetime format.\n",
    "\n",
    "    Args:\n",
    "        df (pd.DataFrame): The input dataframe.\n",
    "\n",
    "    Returns:\n",
    "        pd.DataFrame: The dataframe with the new `date_new` column.\n",
    "    \"\"\"\n",
    "    # Create date_new column by converting date to datetime \n",
    "    df['date_new'] = pd.to_datetime(df['date'])\n",
    "    \n",
    "    # Return the modified dataframe\n",
    "    return df\n",
    "\n",
    "# Make function globally available\n",
    "__builtins__.create_date_new = create_date_new\n",
    "# Make df accessible for testing\n",
    "__builtins__.df = create_date_new(df)"
   ]
  },
  {
   "cell_type": "code",
   "execution_count": 33,
   "metadata": {
    "deletable": false,
    "editable": false
   },
   "outputs": [
    {
     "data": {
      "text/html": [
       "<p><strong><pre style='display: inline;'>q9</pre></strong> passed! 💯</p>"
      ],
      "text/plain": [
       "q9 results: All test cases passed!"
      ]
     },
     "execution_count": 33,
     "metadata": {},
     "output_type": "execute_result"
    }
   ],
   "source": [
    "grader.check(\"q9\")"
   ]
  },
  {
   "cell_type": "markdown",
   "metadata": {
    "deletable": false,
    "editable": false
   },
   "source": [
    "<!-- END QUESTION -->\n",
    "\n",
    "<!-- BEGIN QUESTION -->\n",
    "\n",
    "**Question 10:Split the dataframe into two separate dataframes based on the category column: one for cereals and tubers and another for pulses and nuts**"
   ]
  },
  {
   "cell_type": "code",
   "execution_count": 27,
   "metadata": {
    "tags": []
   },
   "outputs": [],
   "source": [
    "def split_dataframes(df):\n",
    "    \"\"\"\n",
    "    Splits the dataframe into two separate dataframes based on the `category` column.\n",
    "\n",
    "    Args:\n",
    "        df (pd.DataFrame): The input dataframe.\n",
    "\n",
    "    Returns:\n",
    "        tuple: A tuple of two dataframes: (cereals_df, pulses_df).\n",
    "    \"\"\"\n",
    "    # Filter for cereals and tubers\n",
    "    cereals_df = df[df['category'].str.contains('cereals|tubers', case=False, na=False)]\n",
    "    \n",
    "    # Filter for pulses and nuts\n",
    "    pulses_df = df[df['category'].str.contains('pulses|nuts', case=False, na=False)]\n",
    "    \n",
    "    # Make both dataframes available globally for the test\n",
    "    __builtins__.cereals_df = cereals_df\n",
    "    __builtins__.pulses_df = pulses_df\n",
    "    \n",
    "    # Return both dataframes as a tuple\n",
    "    return (cereals_df, pulses_df)\n",
    "\n",
    "# Make function globally available\n",
    "__builtins__.split_dataframes = split_dataframes\n",
    "\n",
    "# Create and save the results for testing\n",
    "cereals_df, pulses_df = split_dataframes(df)\n",
    "__builtins__.cereals_df = cereals_df\n",
    "__builtins__.pulses_df = pulses_df"
   ]
  },
  {
   "cell_type": "code",
   "execution_count": 28,
   "metadata": {
    "deletable": false,
    "editable": false
   },
   "outputs": [
    {
     "data": {
      "text/html": [
       "<p><strong><pre style='display: inline;'>q10</pre></strong> passed! ✨</p>"
      ],
      "text/plain": [
       "q10 results: All test cases passed!"
      ]
     },
     "execution_count": 28,
     "metadata": {},
     "output_type": "execute_result"
    }
   ],
   "source": [
    "grader.check(\"q10\")"
   ]
  },
  {
   "cell_type": "markdown",
   "metadata": {
    "deletable": false,
    "editable": false
   },
   "source": [
    "<!-- END QUESTION -->\n",
    "\n",
    "<!-- BEGIN QUESTION -->\n",
    "\n",
    "**Question 11:Calculate the mean, median, and mode of the price and usdprice columns for each category**"
   ]
  },
  {
   "cell_type": "code",
   "execution_count": 29,
   "metadata": {
    "tags": []
   },
   "outputs": [],
   "source": [
    "def calculate_price_stats(df):\n",
    "    \"\"\"\n",
    "    Calculates the mean, median, and mode of the `price` and `usdprice` columns for each `category`.\n",
    "\n",
    "    Args:\n",
    "        df (pd.DataFrame): The input dataframe.\n",
    "\n",
    "    Returns:\n",
    "        tuple: A tuple of two dataframes: (price_stats, usdprice_stats).\n",
    "    \"\"\"\n",
    "    # Calculate statistics for price column\n",
    "    price_stats = df.groupby('category')['price'].agg(['mean', 'median'])\n",
    "    \n",
    "    # Add mode to price statistics\n",
    "    price_modes = df.groupby('category')['price'].agg(lambda x: x.mode().iloc[0] if not x.mode().empty else None)\n",
    "    price_stats['mode'] = price_modes\n",
    "    \n",
    "    # Calculate statistics for usdprice column\n",
    "    usdprice_stats = df.groupby('category')['usdprice'].agg(['mean', 'median'])\n",
    "    \n",
    "    # Add mode to usdprice statistics\n",
    "    usdprice_modes = df.groupby('category')['usdprice'].agg(lambda x: x.mode().iloc[0] if not x.mode().empty else None)\n",
    "    usdprice_stats['mode'] = usdprice_modes\n",
    "    \n",
    "    # Make both dataframes available globally\n",
    "    __builtins__.price_stats = price_stats\n",
    "    __builtins__.usdprice_stats = usdprice_stats\n",
    "    \n",
    "    # Return both statistics dataframes as a tuple\n",
    "    return (price_stats, usdprice_stats)\n",
    "\n",
    "# Make function available globally\n",
    "__builtins__.calculate_price_stats = calculate_price_stats"
   ]
  },
  {
   "cell_type": "code",
   "execution_count": 30,
   "metadata": {
    "deletable": false,
    "editable": false
   },
   "outputs": [
    {
     "data": {
      "text/html": [
       "<p><strong><pre style='display: inline;'>q11</pre></strong> passed! 🙌</p>"
      ],
      "text/plain": [
       "q11 results: All test cases passed!"
      ]
     },
     "execution_count": 30,
     "metadata": {},
     "output_type": "execute_result"
    }
   ],
   "source": [
    "grader.check(\"q11\")"
   ]
  },
  {
   "cell_type": "markdown",
   "metadata": {
    "deletable": false,
    "editable": false
   },
   "source": [
    "<!-- END QUESTION -->\n",
    "\n",
    "<!-- BEGIN QUESTION -->\n",
    "\n",
    "**Question 12:Merge the two dataframes (from Question 11) back into one dataframe and save it as `merged_data.csv`.**"
   ]
  },
  {
   "cell_type": "code",
   "execution_count": 31,
   "metadata": {
    "tags": []
   },
   "outputs": [],
   "source": [
    "def merge_dataframes(cereals_df, pulses_df):\n",
    "    \"\"\"\n",
    "    Merges the two dataframes back into one dataframe and saves it as `merged_data.csv`.\n",
    "\n",
    "    Args:\n",
    "        cereals_df (pd.DataFrame): The cereals and tubers dataframe.\n",
    "        pulses_df (pd.DataFrame): The pulses and nuts dataframe.\n",
    "\n",
    "    Returns:\n",
    "        pd.DataFrame: The merged dataframe.\n",
    "    \"\"\"\n",
    "    # Concatenate the two dataframes\n",
    "    merged_df = pd.concat([cereals_df, pulses_df], ignore_index=True)\n",
    "    \n",
    "    # Save the merged dataframe to a CSV file\n",
    "    merged_df.to_csv('merged_data.csv', index=False)\n",
    "    \n",
    "    # Make the merged dataframe available globally\n",
    "    __builtins__.merged_df = merged_df\n",
    "    \n",
    "    # Return the merged dataframe\n",
    "    return merged_df\n",
    "\n",
    "# Make function available globally\n",
    "__builtins__.merge_dataframes = merge_dataframes"
   ]
  },
  {
   "cell_type": "code",
   "execution_count": 32,
   "metadata": {
    "deletable": false,
    "editable": false
   },
   "outputs": [
    {
     "data": {
      "text/html": [
       "<p><strong><pre style='display: inline;'>q12</pre></strong> passed! 🌟</p>"
      ],
      "text/plain": [
       "q12 results: All test cases passed!"
      ]
     },
     "execution_count": 32,
     "metadata": {},
     "output_type": "execute_result"
    }
   ],
   "source": [
    "grader.check(\"q12\")"
   ]
  },
  {
   "cell_type": "markdown",
   "metadata": {
    "deletable": false,
    "editable": false
   },
   "source": [
    "<!-- END QUESTION -->\n",
    "\n",
    "<!-- BEGIN QUESTION -->\n",
    "\n",
    "**Question 13:Open the `merged_data.csv` file and select only the `date_new`, `market`, `commodity`, `price`, and `usdprice` columns**"
   ]
  },
  {
   "cell_type": "code",
   "execution_count": 34,
   "metadata": {
    "tags": []
   },
   "outputs": [],
   "source": [
    "def select_columns():\n",
    "    \"\"\"\n",
    "    Opens the `merged_data.csv` file and selects only the `date_new`, `market`, `commodity`, `price`, and `usdprice` columns.\n",
    "\n",
    "    Returns:\n",
    "        pd.DataFrame: The dataframe with selected columns.\n",
    "    \"\"\"\n",
    "    # Read the CSV file\n",
    "    df = pd.read_csv('merged_data.csv')\n",
    "    \n",
    "    # Ensure date_new is in datetime format\n",
    "    df['date_new'] = pd.to_datetime(df['date_new'])\n",
    "    \n",
    "    # Select only the required columns\n",
    "    selected_columns = df[['date_new', 'market', 'commodity', 'price', 'usdprice']]\n",
    "    \n",
    "    # Make the result available globally\n",
    "    __builtins__.selected_columns = selected_columns\n",
    "    \n",
    "    # Return the dataframe with selected columns\n",
    "    return selected_columns\n",
    "\n",
    "# Make function available globally\n",
    "__builtins__.select_columns = select_columns"
   ]
  },
  {
   "cell_type": "code",
   "execution_count": 35,
   "metadata": {
    "deletable": false,
    "editable": false
   },
   "outputs": [
    {
     "data": {
      "text/html": [
       "<p><strong><pre style='display: inline;'>q13</pre></strong> passed! 💯</p>"
      ],
      "text/plain": [
       "q13 results: All test cases passed!"
      ]
     },
     "execution_count": 35,
     "metadata": {},
     "output_type": "execute_result"
    }
   ],
   "source": [
    "grader.check(\"q13\")"
   ]
  },
  {
   "cell_type": "markdown",
   "metadata": {
    "deletable": false,
    "editable": false
   },
   "source": [
    "<!-- END QUESTION -->\n",
    "\n",
    "<!-- BEGIN QUESTION -->\n",
    "\n",
    "**Question 14:Group the data by `admin1` (state) and calculate the average `price` and `usdprice` for each state**"
   ]
  },
  {
   "cell_type": "code",
   "execution_count": 37,
   "metadata": {
    "tags": []
   },
   "outputs": [],
   "source": [
    "def calculate_state_avg_prices(df):\n",
    "    \"\"\"\n",
    "    Groups the data by `admin1` (state) and calculates the average `price` and `usdprice` for each state.\n",
    "\n",
    "    Args:\n",
    "        df (pd.DataFrame): The input dataframe.\n",
    "\n",
    "    Returns:\n",
    "        pd.DataFrame: The dataframe with average prices by state.\n",
    "    \"\"\"\n",
    "    # Group by admin1 (state) and calculate average prices\n",
    "    state_avg_prices = df.groupby('admin1').agg({\n",
    "        'price': 'mean',\n",
    "        'usdprice': 'mean'\n",
    "    }).reset_index()\n",
    "    \n",
    "    # Make the result available globally\n",
    "    __builtins__.state_avg_prices = state_avg_prices\n",
    "    \n",
    "    # Return the dataframe with average prices by state\n",
    "    return state_avg_prices\n",
    "\n",
    "# Make function available globally\n",
    "__builtins__.calculate_state_avg_prices = calculate_state_avg_prices"
   ]
  },
  {
   "cell_type": "code",
   "execution_count": 38,
   "metadata": {
    "deletable": false,
    "editable": false
   },
   "outputs": [
    {
     "data": {
      "text/html": [
       "<p><strong><pre style='display: inline;'>q14</pre></strong> passed! 🚀</p>"
      ],
      "text/plain": [
       "q14 results: All test cases passed!"
      ]
     },
     "execution_count": 38,
     "metadata": {},
     "output_type": "execute_result"
    }
   ],
   "source": [
    "grader.check(\"q14\")"
   ]
  },
  {
   "cell_type": "markdown",
   "metadata": {
    "deletable": false,
    "editable": false
   },
   "source": [
    "<!-- END QUESTION -->\n",
    "\n",
    "<!-- BEGIN QUESTION -->\n",
    "\n",
    "**Question 15:Identify the top 5 markets with the highest average `usdprice` for `Rice (imported)`.**"
   ]
  },
  {
   "cell_type": "code",
   "execution_count": 39,
   "metadata": {
    "tags": []
   },
   "outputs": [],
   "source": [
    "def identify_top_markets(df):\n",
    "    \"\"\"\n",
    "    Identifies the top 5 markets with the highest average `usdprice` for `Rice (imported)`.\n",
    "\n",
    "    Args:\n",
    "        df (pd.DataFrame): The input dataframe.\n",
    "\n",
    "    Returns:\n",
    "        pd.Series: A series with the top 5 markets and their average `usdprice`.\n",
    "    \"\"\"\n",
    "    # Filter for Rice (imported) commodity\n",
    "    rice_df = df[df['commodity'] == 'Rice (imported)']\n",
    "    \n",
    "    # Group by market and calculate average usdprice\n",
    "    market_avg_prices = rice_df.groupby('market')['usdprice'].mean()\n",
    "    \n",
    "    # Sort in descending order and get top 5\n",
    "    top_markets = market_avg_prices.sort_values(ascending=False).head(5)\n",
    "    \n",
    "    # Make the result available globally\n",
    "    __builtins__.top_markets = top_markets\n",
    "    \n",
    "    # Return the series with top 5 markets\n",
    "    return top_markets\n",
    "\n",
    "# Make function available globally\n",
    "__builtins__.identify_top_markets = identify_top_markets"
   ]
  },
  {
   "cell_type": "code",
   "execution_count": 40,
   "metadata": {
    "deletable": false,
    "editable": false
   },
   "outputs": [
    {
     "data": {
      "text/html": [
       "<p><strong><pre style='display: inline;'>q15</pre></strong> passed! ✨</p>"
      ],
      "text/plain": [
       "q15 results: All test cases passed!"
      ]
     },
     "execution_count": 40,
     "metadata": {},
     "output_type": "execute_result"
    }
   ],
   "source": [
    "grader.check(\"q15\")"
   ]
  },
  {
   "cell_type": "markdown",
   "metadata": {
    "deletable": false,
    "editable": false
   },
   "source": [
    "<!-- END QUESTION -->\n",
    "\n"
   ]
  },
  {
   "cell_type": "markdown",
   "metadata": {
    "deletable": false,
    "editable": false
   },
   "source": [
    "---\n",
    "\n",
    "To double-check your work, the cell below will rerun all of the autograder tests."
   ]
  },
  {
   "cell_type": "code",
   "execution_count": 41,
   "metadata": {
    "deletable": false,
    "editable": false
   },
   "outputs": [
    {
     "data": {
      "text/plain": [
       "q1 results: All test cases passed!\n",
       "\n",
       "q10 results: All test cases passed!\n",
       "\n",
       "q11 results: All test cases passed!\n",
       "\n",
       "q12 results: All test cases passed!\n",
       "\n",
       "q13 results: All test cases passed!\n",
       "\n",
       "q14 results: All test cases passed!\n",
       "\n",
       "q15 results: All test cases passed!\n",
       "\n",
       "q2 results: All test cases passed!\n",
       "\n",
       "q3 results: All test cases passed!\n",
       "\n",
       "q4 results: All test cases passed!\n",
       "\n",
       "q5 results: All test cases passed!\n",
       "\n",
       "q6 results: All test cases passed!\n",
       "\n",
       "q7 results: All test cases passed!\n",
       "\n",
       "q8 results: All test cases passed!\n",
       "\n",
       "q9 results: All test cases passed!"
      ]
     },
     "execution_count": 41,
     "metadata": {},
     "output_type": "execute_result"
    }
   ],
   "source": [
    "grader.check_all()"
   ]
  },
  {
   "cell_type": "markdown",
   "metadata": {
    "deletable": false,
    "editable": false
   },
   "source": [
    "## Submission\n",
    "\n",
    "Make sure you have run all cells in your notebook in order before running the cell below, so that all images/graphs appear in the output. The cell below will generate a zip file for you to submit. **Please save before exporting!**\n",
    "\n",
    "Complete each function according to the provided specifications. Make sure all tests pass."
   ]
  },
  {
   "cell_type": "code",
   "execution_count": null,
   "metadata": {
    "deletable": false,
    "editable": false
   },
   "outputs": [
    {
     "name": "stderr",
     "output_type": "stream",
     "text": [
      "/home/nick/Desktop/nick_dsa/.venv/lib/python3.13/site-packages/otter/check/notebook.py:494: UserWarning: Could not locate a PDF to include\n",
      "  warnings.warn(\"Could not locate a PDF to include\")\n"
     ]
    },
    {
     "data": {
      "application/vnd.jupyter.widget-view+json": {
       "model_id": "49a033e44bd441188fcd2926fcf4f954",
       "version_major": 2,
       "version_minor": 0
      },
      "text/plain": [
       "VBox(children=(HTML(value='<p style=\"margin: 0\">A PDF of your notebook could not be generated. Please acknowle…"
      ]
     },
     "metadata": {},
     "output_type": "display_data"
    }
   ],
   "source": [
    "# Save your notebook first, then run this cell to export your submission.\n",
    "grader.export(run_tests=True)"
   ]
  },
  {
   "cell_type": "markdown",
   "metadata": {},
   "source": [
    " "
   ]
  }
 ],
 "metadata": {
  "kernelspec": {
   "display_name": ".venv",
   "language": "python",
   "name": "python3"
  },
  "language_info": {
   "codemirror_mode": {
    "name": "ipython",
    "version": 3
   },
   "file_extension": ".py",
   "mimetype": "text/x-python",
   "name": "python",
   "nbconvert_exporter": "python",
   "pygments_lexer": "ipython3",
   "version": "3.13.2"
  },
  "otter": {
   "OK_FORMAT": true,
   "export_pdf_failure_message": "A PDF of your notebook could not be generated. Please acknowledge to continue submission export.",
   "require_no_pdf_confirmation": true,
   "tests": {
    "q1": {
     "name": "q1",
     "points": 1,
     "suites": [
      {
       "cases": [
        {
         "code": ">>> assert even_odd_numbers(10) == ([2, 4, 6, 8, 10], [1, 3, 5, 7, 9])\n",
         "hidden": false,
         "locked": false
        },
        {
         "code": ">>> assert even_odd_numbers(5) == ([2, 4], [1, 3, 5])\n",
         "hidden": false,
         "locked": false
        }
       ],
       "scored": true,
       "setup": "",
       "teardown": "",
       "type": "doctest"
      }
     ]
    },
    "q10": {
     "name": "q10",
     "points": 1,
     "suites": [
      {
       "cases": [
        {
         "code": ">>> (cereals_df, pulses_df) = split_dataframes(df)\n>>> assert len(cereals_df) > 0, 'Cereals and tubers dataframe is empty'\n",
         "hidden": false,
         "locked": false
        },
        {
         "code": ">>> assert len(pulses_df) > 0, 'Pulses and nuts dataframe is empty'\n",
         "hidden": false,
         "locked": false
        }
       ],
       "scored": true,
       "setup": "",
       "teardown": "",
       "type": "doctest"
      }
     ]
    },
    "q11": {
     "name": "q11",
     "points": 1,
     "suites": [
      {
       "cases": [
        {
         "code": ">>> (price_stats, usdprice_stats) = calculate_price_stats(df)\n>>> assert not price_stats.empty, 'Price statistics dataframe is empty'\n",
         "hidden": false,
         "locked": false
        },
        {
         "code": ">>> assert not usdprice_stats.empty, 'USD price statistics dataframe is empty'\n",
         "hidden": false,
         "locked": false
        }
       ],
       "scored": true,
       "setup": "",
       "teardown": "",
       "type": "doctest"
      }
     ]
    },
    "q12": {
     "name": "q12",
     "points": 1,
     "suites": [
      {
       "cases": [
        {
         "code": ">>> merged_df = merge_dataframes(cereals_df, pulses_df)\n>>> assert not merged_df.empty, 'Merged dataframe is empty'\n",
         "hidden": false,
         "locked": false
        },
        {
         "code": ">>> assert len(merged_df) == len(cereals_df) + len(pulses_df), 'Merged dataframe has incorrect number of rows'\n",
         "hidden": false,
         "locked": false
        }
       ],
       "scored": true,
       "setup": "",
       "teardown": "",
       "type": "doctest"
      }
     ]
    },
    "q13": {
     "name": "q13",
     "points": 1,
     "suites": [
      {
       "cases": [
        {
         "code": ">>> selected_columns = select_columns()\n>>> assert not selected_columns.empty, 'Selected columns dataframe is empty'\n",
         "hidden": false,
         "locked": false
        },
        {
         "code": ">>> assert list(selected_columns.columns) == ['date_new', 'market', 'commodity', 'price', 'usdprice'], 'Incorrect columns selected'\n",
         "hidden": false,
         "locked": false
        }
       ],
       "scored": true,
       "setup": "",
       "teardown": "",
       "type": "doctest"
      }
     ]
    },
    "q14": {
     "name": "q14",
     "points": 1,
     "suites": [
      {
       "cases": [
        {
         "code": ">>> state_avg_prices = calculate_state_avg_prices(df)\n>>> assert not state_avg_prices.empty, 'State average prices dataframe is empty'\n",
         "hidden": false,
         "locked": false
        },
        {
         "code": ">>> assert 'price' in state_avg_prices.columns, 'Price column not found in state average prices'\n",
         "hidden": false,
         "locked": false
        }
       ],
       "scored": true,
       "setup": "",
       "teardown": "",
       "type": "doctest"
      }
     ]
    },
    "q15": {
     "name": "q15",
     "points": 1,
     "suites": [
      {
       "cases": [
        {
         "code": ">>> top_markets = identify_top_markets(df)\n>>> assert not top_markets.empty, 'Top markets dataframe is empty'\n",
         "hidden": false,
         "locked": false
        },
        {
         "code": ">>> assert len(top_markets) == 5, 'Incorrect number of top markets'\n",
         "hidden": false,
         "locked": false
        }
       ],
       "scored": true,
       "setup": "",
       "teardown": "",
       "type": "doctest"
      }
     ]
    },
    "q2": {
     "name": "q2",
     "points": 1,
     "suites": [
      {
       "cases": [
        {
         "code": ">>> assert word_frequency('Data science is fun. Data science is useful.') == {'data': 2, 'science': 2, 'is': 2, 'fun': 1, 'useful': 1}\n",
         "hidden": false,
         "locked": false
        },
        {
         "code": ">>> assert word_frequency('Hello hello world') == {'hello': 2, 'world': 1}\n",
         "hidden": false,
         "locked": false
        }
       ],
       "scored": true,
       "setup": "",
       "teardown": "",
       "type": "doctest"
      }
     ]
    },
    "q3": {
     "name": "q3",
     "points": 1,
     "suites": [
      {
       "cases": [
        {
         "code": ">>> assert extract_and_sort_values({'a': 3, 'b': 1, 'c': 2}) == [3, 2, 1]\n",
         "hidden": false,
         "locked": false
        },
        {
         "code": ">>> assert extract_and_sort_values({'x': 10, 'y': 5, 'z': 20}) == [20, 10, 5]\n",
         "hidden": false,
         "locked": false
        }
       ],
       "scored": true,
       "setup": "",
       "teardown": "",
       "type": "doctest"
      }
     ]
    },
    "q4": {
     "name": "q4",
     "points": 1,
     "suites": [
      {
       "cases": [
        {
         "code": ">>> assert merge_lists_to_dict(['a', 'b', 'c'], [3, 2, 1]) == {'a': 3, 'b': 2, 'c': 1}\n",
         "hidden": false,
         "locked": false
        },
        {
         "code": ">>> assert merge_lists_to_dict(['x', 'y'], [10, 20]) == {'x': 10, 'y': 20}\n",
         "hidden": false,
         "locked": false
        }
       ],
       "scored": true,
       "setup": "",
       "teardown": "",
       "type": "doctest"
      }
     ]
    },
    "q5": {
     "name": "q5",
     "points": 1,
     "suites": [
      {
       "cases": [
        {
         "code": ">>> assert least_common_multiple(4, 6) == 12\n",
         "hidden": false,
         "locked": false
        },
        {
         "code": ">>> assert least_common_multiple(5, 10) == 10\n",
         "hidden": false,
         "locked": false
        }
       ],
       "scored": true,
       "setup": "",
       "teardown": "",
       "type": "doctest"
      }
     ]
    },
    "q6": {
     "name": "q6",
     "points": 1,
     "suites": [
      {
       "cases": [
        {
         "code": ">>> assert get_nearest_farthest((0, 0), [(1, 1), (3, 3), (-1, -1)]) == (0, 1)\n",
         "hidden": false,
         "locked": false
        },
        {
         "code": ">>> assert get_nearest_farthest((0, 0), [(2, 2), (1, 1), (3, 3)]) == (1, 2)\n",
         "hidden": false,
         "locked": false
        }
       ],
       "scored": true,
       "setup": "",
       "teardown": "",
       "type": "doctest"
      }
     ]
    },
    "q7": {
     "name": "q7",
     "points": 1,
     "suites": [
      {
       "cases": [
        {
         "code": ">>> assert filter_divisible(10, 2) == [1, 3, 5, 7, 9]\n",
         "hidden": false,
         "locked": false
        },
        {
         "code": ">>> assert filter_divisible(15, 3) == [1, 2, 4, 5, 7, 8, 10, 11, 13, 14]\n",
         "hidden": false,
         "locked": false
        }
       ],
       "scored": true,
       "setup": "",
       "teardown": "",
       "type": "doctest"
      }
     ]
    },
    "q8": {
     "name": "q8",
     "points": 1,
     "suites": [
      {
       "cases": [
        {
         "code": ">>> assert flatten_and_unique([[2, 13, 44], [6, 7, 2]]) == [2, 6, 7, 13, 44]\n",
         "hidden": false,
         "locked": false
        },
        {
         "code": ">>> assert flatten_and_unique([[1, 2, 3], [3, 4, 5]]) == [1, 2, 3, 4, 5]\n",
         "hidden": false,
         "locked": false
        }
       ],
       "scored": true,
       "setup": "",
       "teardown": "",
       "type": "doctest"
      }
     ]
    },
    "q9": {
     "name": "q9",
     "points": 1,
     "suites": [
      {
       "cases": [
        {
         "code": ">>> df = create_date_new(df)\n>>> assert 'date_new' in df.columns, \"Column 'date_new' not found in the dataframe\"\n",
         "hidden": false,
         "locked": false
        },
        {
         "code": ">>> assert df['date_new'].dtype == 'datetime64[ns]', \"Column 'date_new' is not in datetime format\"\n",
         "hidden": false,
         "locked": false
        }
       ],
       "scored": true,
       "setup": "",
       "teardown": "",
       "type": "doctest"
      }
     ]
    }
   }
  }
 },
 "nbformat": 4,
 "nbformat_minor": 4
}
